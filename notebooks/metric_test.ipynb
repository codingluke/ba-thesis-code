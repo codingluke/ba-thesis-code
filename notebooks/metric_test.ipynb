{
 "cells": [
  {
   "cell_type": "code",
   "execution_count": 1,
   "metadata": {
    "collapsed": false
   },
   "outputs": [
    {
     "name": "stderr",
     "output_type": "stream",
     "text": [
      "/home/lho/Htw/bachelor/thesis-code/venv/lib/python2.7/site-packages/matplotlib/font_manager.py:273: UserWarning: Matplotlib is building the font cache using fc-list. This may take a moment.\n",
      "  warnings.warn('Matplotlib is building the font cache using fc-list. This may take a moment.')\n"
     ]
    }
   ],
   "source": [
    "import os, sys\n",
    "lib_path = os.path.abspath(os.path.join('..', 'src'))\n",
    "sys.path.append(lib_path)\n",
    "\n",
    "%load_ext autoreload\n",
    "%autoreload 2\n",
    "%matplotlib inline"
   ]
  },
  {
   "cell_type": "code",
   "execution_count": 2,
   "metadata": {
    "collapsed": false
   },
   "outputs": [],
   "source": [
    "from metric import MetricRecorder, MetricReader, plt\n",
    "import matplotlib.patches as mpatches"
   ]
  },
  {
   "cell_type": "code",
   "execution_count": 3,
   "metadata": {
    "collapsed": false
   },
   "outputs": [],
   "source": [
    "mr = MetricReader(config_dir_path='../spearmint/minibatch-size/')"
   ]
  },
  {
   "cell_type": "code",
   "execution_count": 4,
   "metadata": {
    "collapsed": false
   },
   "outputs": [
    {
     "data": {
      "text/plain": [
       "{u'_id': ObjectId('569fd2d5f2684a4ed519423a'),\n",
       " u'constants': {u'X_dirpath': u'../../../data/train/*',\n",
       "  u'algorithm': u'RMSProp',\n",
       "  u'batchsize': 5000000,\n",
       "  u'epochs': 100,\n",
       "  u'improvement_threshold': 0.995,\n",
       "  u'limit': 20,\n",
       "  u'lmbda': 0.0,\n",
       "  u'patience': 20000,\n",
       "  u'patience_increase': 2,\n",
       "  u'training_size': 0,\n",
       "  u'validation_frequency': 5,\n",
       "  u'validation_size': 0,\n",
       "  u'y_dirpath': u'../../../data/train_cleaned/'},\n",
       " u'experiment_name': u'minibatch-size'}"
      ]
     },
     "execution_count": 4,
     "metadata": {},
     "output_type": "execute_result"
    }
   ],
   "source": [
    "mr.get_metadata()"
   ]
  },
  {
   "cell_type": "code",
   "execution_count": 9,
   "metadata": {
    "collapsed": false
   },
   "outputs": [
    {
     "data": {
      "text/html": [
       "<div>\n",
       "<table border=\"1\" class=\"dataframe\">\n",
       "  <thead>\n",
       "    <tr style=\"text-align: right;\">\n",
       "      <th></th>\n",
       "      <th>_id</th>\n",
       "      <th>cost</th>\n",
       "      <th>epoch</th>\n",
       "      <th>iteration</th>\n",
       "      <th>job_id</th>\n",
       "      <th>second</th>\n",
       "      <th>validation_accuracy</th>\n",
       "    </tr>\n",
       "  </thead>\n",
       "  <tbody>\n",
       "    <tr>\n",
       "      <th>0</th>\n",
       "      <td>56a205e3f2684a3d099f3bbd</td>\n",
       "      <td>0.096270</td>\n",
       "      <td>0</td>\n",
       "      <td>6000</td>\n",
       "      <td>14</td>\n",
       "      <td>27.789068</td>\n",
       "      <td>0.001632</td>\n",
       "    </tr>\n",
       "    <tr>\n",
       "      <th>1</th>\n",
       "      <td>56a205f3f2684a3d099f3bbe</td>\n",
       "      <td>0.071697</td>\n",
       "      <td>0</td>\n",
       "      <td>12000</td>\n",
       "      <td>14</td>\n",
       "      <td>43.688841</td>\n",
       "      <td>0.000680</td>\n",
       "    </tr>\n",
       "    <tr>\n",
       "      <th>2</th>\n",
       "      <td>56a20602f2684a3d099f3bbf</td>\n",
       "      <td>0.067720</td>\n",
       "      <td>0</td>\n",
       "      <td>18000</td>\n",
       "      <td>14</td>\n",
       "      <td>59.456953</td>\n",
       "      <td>0.000328</td>\n",
       "    </tr>\n",
       "    <tr>\n",
       "      <th>3</th>\n",
       "      <td>56a20612f2684a3d099f3bc0</td>\n",
       "      <td>0.076173</td>\n",
       "      <td>0</td>\n",
       "      <td>24000</td>\n",
       "      <td>14</td>\n",
       "      <td>75.509454</td>\n",
       "      <td>0.000379</td>\n",
       "    </tr>\n",
       "    <tr>\n",
       "      <th>4</th>\n",
       "      <td>56a20622f2684a3d099f3bc1</td>\n",
       "      <td>0.088916</td>\n",
       "      <td>0</td>\n",
       "      <td>30000</td>\n",
       "      <td>14</td>\n",
       "      <td>91.243428</td>\n",
       "      <td>0.000334</td>\n",
       "    </tr>\n",
       "    <tr>\n",
       "      <th>5</th>\n",
       "      <td>56a20636f2684a3d099f3bc2</td>\n",
       "      <td>0.093486</td>\n",
       "      <td>1</td>\n",
       "      <td>36000</td>\n",
       "      <td>14</td>\n",
       "      <td>111.361934</td>\n",
       "      <td>0.000632</td>\n",
       "    </tr>\n",
       "    <tr>\n",
       "      <th>6</th>\n",
       "      <td>56a20646f2684a3d099f3bc3</td>\n",
       "      <td>0.070532</td>\n",
       "      <td>1</td>\n",
       "      <td>42000</td>\n",
       "      <td>14</td>\n",
       "      <td>127.350275</td>\n",
       "      <td>0.000283</td>\n",
       "    </tr>\n",
       "    <tr>\n",
       "      <th>7</th>\n",
       "      <td>56a20656f2684a3d099f3bc4</td>\n",
       "      <td>0.066232</td>\n",
       "      <td>1</td>\n",
       "      <td>48000</td>\n",
       "      <td>14</td>\n",
       "      <td>143.036557</td>\n",
       "      <td>0.000182</td>\n",
       "    </tr>\n",
       "    <tr>\n",
       "      <th>8</th>\n",
       "      <td>56a20666f2684a3d099f3bc5</td>\n",
       "      <td>0.075264</td>\n",
       "      <td>1</td>\n",
       "      <td>54000</td>\n",
       "      <td>14</td>\n",
       "      <td>158.946592</td>\n",
       "      <td>0.000236</td>\n",
       "    </tr>\n",
       "    <tr>\n",
       "      <th>9</th>\n",
       "      <td>56a20675f2684a3d099f3bc6</td>\n",
       "      <td>0.087990</td>\n",
       "      <td>1</td>\n",
       "      <td>60000</td>\n",
       "      <td>14</td>\n",
       "      <td>174.642586</td>\n",
       "      <td>0.000257</td>\n",
       "    </tr>\n",
       "    <tr>\n",
       "      <th>10</th>\n",
       "      <td>56a2068af2684a3d099f3bc7</td>\n",
       "      <td>0.092199</td>\n",
       "      <td>2</td>\n",
       "      <td>66000</td>\n",
       "      <td>14</td>\n",
       "      <td>194.847534</td>\n",
       "      <td>0.000481</td>\n",
       "    </tr>\n",
       "    <tr>\n",
       "      <th>11</th>\n",
       "      <td>56a2069af2684a3d099f3bc8</td>\n",
       "      <td>0.070180</td>\n",
       "      <td>2</td>\n",
       "      <td>72000</td>\n",
       "      <td>14</td>\n",
       "      <td>210.787455</td>\n",
       "      <td>0.000197</td>\n",
       "    </tr>\n",
       "    <tr>\n",
       "      <th>12</th>\n",
       "      <td>56a206a9f2684a3d099f3bc9</td>\n",
       "      <td>0.065632</td>\n",
       "      <td>2</td>\n",
       "      <td>78000</td>\n",
       "      <td>14</td>\n",
       "      <td>226.647032</td>\n",
       "      <td>0.000169</td>\n",
       "    </tr>\n",
       "    <tr>\n",
       "      <th>13</th>\n",
       "      <td>56a206b9f2684a3d099f3bca</td>\n",
       "      <td>0.075033</td>\n",
       "      <td>2</td>\n",
       "      <td>84000</td>\n",
       "      <td>14</td>\n",
       "      <td>242.395111</td>\n",
       "      <td>0.000218</td>\n",
       "    </tr>\n",
       "    <tr>\n",
       "      <th>14</th>\n",
       "      <td>56a206c9f2684a3d099f3bcb</td>\n",
       "      <td>0.087748</td>\n",
       "      <td>2</td>\n",
       "      <td>90000</td>\n",
       "      <td>14</td>\n",
       "      <td>258.304159</td>\n",
       "      <td>0.000214</td>\n",
       "    </tr>\n",
       "    <tr>\n",
       "      <th>15</th>\n",
       "      <td>56a206ddf2684a3d099f3bcc</td>\n",
       "      <td>0.091129</td>\n",
       "      <td>3</td>\n",
       "      <td>96000</td>\n",
       "      <td>14</td>\n",
       "      <td>278.263538</td>\n",
       "      <td>0.000352</td>\n",
       "    </tr>\n",
       "    <tr>\n",
       "      <th>16</th>\n",
       "      <td>56a206edf2684a3d099f3bcd</td>\n",
       "      <td>0.070264</td>\n",
       "      <td>3</td>\n",
       "      <td>102000</td>\n",
       "      <td>14</td>\n",
       "      <td>293.905218</td>\n",
       "      <td>0.000149</td>\n",
       "    </tr>\n",
       "  </tbody>\n",
       "</table>\n",
       "</div>"
      ],
      "text/plain": [
       "                         _id      cost  epoch  iteration  job_id      second  \\\n",
       "0   56a205e3f2684a3d099f3bbd  0.096270      0       6000      14   27.789068   \n",
       "1   56a205f3f2684a3d099f3bbe  0.071697      0      12000      14   43.688841   \n",
       "2   56a20602f2684a3d099f3bbf  0.067720      0      18000      14   59.456953   \n",
       "3   56a20612f2684a3d099f3bc0  0.076173      0      24000      14   75.509454   \n",
       "4   56a20622f2684a3d099f3bc1  0.088916      0      30000      14   91.243428   \n",
       "5   56a20636f2684a3d099f3bc2  0.093486      1      36000      14  111.361934   \n",
       "6   56a20646f2684a3d099f3bc3  0.070532      1      42000      14  127.350275   \n",
       "7   56a20656f2684a3d099f3bc4  0.066232      1      48000      14  143.036557   \n",
       "8   56a20666f2684a3d099f3bc5  0.075264      1      54000      14  158.946592   \n",
       "9   56a20675f2684a3d099f3bc6  0.087990      1      60000      14  174.642586   \n",
       "10  56a2068af2684a3d099f3bc7  0.092199      2      66000      14  194.847534   \n",
       "11  56a2069af2684a3d099f3bc8  0.070180      2      72000      14  210.787455   \n",
       "12  56a206a9f2684a3d099f3bc9  0.065632      2      78000      14  226.647032   \n",
       "13  56a206b9f2684a3d099f3bca  0.075033      2      84000      14  242.395111   \n",
       "14  56a206c9f2684a3d099f3bcb  0.087748      2      90000      14  258.304159   \n",
       "15  56a206ddf2684a3d099f3bcc  0.091129      3      96000      14  278.263538   \n",
       "16  56a206edf2684a3d099f3bcd  0.070264      3     102000      14  293.905218   \n",
       "\n",
       "    validation_accuracy  \n",
       "0              0.001632  \n",
       "1              0.000680  \n",
       "2              0.000328  \n",
       "3              0.000379  \n",
       "4              0.000334  \n",
       "5              0.000632  \n",
       "6              0.000283  \n",
       "7              0.000182  \n",
       "8              0.000236  \n",
       "9              0.000257  \n",
       "10             0.000481  \n",
       "11             0.000197  \n",
       "12             0.000169  \n",
       "13             0.000218  \n",
       "14             0.000214  \n",
       "15             0.000352  \n",
       "16             0.000149  "
      ]
     },
     "execution_count": 9,
     "metadata": {},
     "output_type": "execute_result"
    }
   ],
   "source": [
    "mr.get_records(job_id=14)"
   ]
  },
  {
   "cell_type": "code",
   "execution_count": 23,
   "metadata": {
    "collapsed": false,
    "scrolled": true
   },
   "outputs": [
    {
     "data": {
      "image/png": "[encoded data removed]",
      "text/plain": [
       "<matplotlib.figure.Figure at 0x7f26225aded0>"
      ]
     },
     "metadata": {},
     "output_type": "display_data"
    }
   ],
   "source": [
    "mr.plot_epoches(job_id=15, title='Lernphase Minibatch 1000')"
   ]
  },
  {
   "cell_type": "code",
   "execution_count": 18,
   "metadata": {
    "collapsed": false
   },
   "outputs": [
    {
     "name": "stderr",
     "output_type": "stream",
     "text": [
      "/home/lho/Htw/bachelor/thesis-code/venv/lib/python2.7/site-packages/pandas/tools/plotting.py:3303: UserWarning: To output multiple subplots, the figure containing the passed axes is being cleared\n",
      "  \"is being cleared\", UserWarning)\n"
     ]
    },
    {
     "data": {
      "image/png": "[encoded data removed]",
      "text/plain": [
       "<matplotlib.figure.Figure at 0x7f26421a0890>"
      ]
     },
     "metadata": {},
     "output_type": "display_data"
    }
   ],
   "source": [
    "mr.plot(job_id=14)"
   ]
  },
  {
   "cell_type": "code",
   "execution_count": null,
   "metadata": {
    "collapsed": true
   },
   "outputs": [],
   "source": []
  },
  {
   "cell_type": "code",
   "execution_count": null,
   "metadata": {
    "collapsed": true
   },
   "outputs": [],
   "source": []
  },
  {
   "cell_type": "code",
   "execution_count": null,
   "metadata": {
    "collapsed": true
   },
   "outputs": [],
   "source": []
  },
  {
   "cell_type": "code",
   "execution_count": null,
   "metadata": {
    "collapsed": true
   },
   "outputs": [],
   "source": []
  },
  {
   "cell_type": "code",
   "execution_count": null,
   "metadata": {
    "collapsed": true
   },
   "outputs": [],
   "source": []
  },
  {
   "cell_type": "code",
   "execution_count": null,
   "metadata": {
    "collapsed": true
   },
   "outputs": [],
   "source": []
  },
  {
   "cell_type": "code",
   "execution_count": null,
   "metadata": {
    "collapsed": true
   },
   "outputs": [],
   "source": []
  },
  {
   "cell_type": "code",
   "execution_count": null,
   "metadata": {
    "collapsed": true
   },
   "outputs": [],
   "source": []
  },
  {
   "cell_type": "code",
   "execution_count": null,
   "metadata": {
    "collapsed": true
   },
   "outputs": [],
   "source": []
  },
  {
   "cell_type": "code",
   "execution_count": null,
   "metadata": {
    "collapsed": true
   },
   "outputs": [],
   "source": []
  },
  {
   "cell_type": "code",
   "execution_count": null,
   "metadata": {
    "collapsed": true
   },
   "outputs": [],
   "source": []
  },
  {
   "cell_type": "code",
   "execution_count": null,
   "metadata": {
    "collapsed": true
   },
   "outputs": [],
   "source": []
  },
  {
   "cell_type": "code",
   "execution_count": null,
   "metadata": {
    "collapsed": true
   },
   "outputs": [],
   "source": []
  },
  {
   "cell_type": "code",
   "execution_count": null,
   "metadata": {
    "collapsed": true
   },
   "outputs": [],
   "source": []
  },
  {
   "cell_type": "code",
   "execution_count": 27,
   "metadata": {
    "collapsed": false
   },
   "outputs": [
    {
     "data": {
      "text/plain": [
       "0.0025000000000000001"
      ]
     },
     "execution_count": 27,
     "metadata": {},
     "output_type": "execute_result"
    },
    {
     "data": {
      "image/png": "[encoded data removed]",
      "text/plain": [
       "<matplotlib.figure.Figure at 0x7f1840062f90>"
      ]
     },
     "metadata": {},
     "output_type": "display_data"
    }
   ],
   "source": [
    "fig, ax = plt.subplots(1, 1)\n",
    "ax.plot(xy=(50000, 0.001), marker='o', color=\"r\", linestyle=\"None\", label=\"test\")\n",
    "records[['cost', 'validation_accuracy', 'iteration']].plot(x='iteration', \n",
    "                                                           y=['cost', 'validation_accuracy'],\n",
    "                                                           title=\"Hallo\",\n",
    "                                                           sharey=True, ax=ax)\n",
    "ax.vlines(x=[10000,20000], ymin=[0],ymax=[0.0025], label='epochs', linestyle='dotted')\n",
    "#ax.annotate('min', xy=(50000, 0.001), xytext=(50000+30000, 0.0016), arrowprops=dict(facecolor='black', shrink=0.003))\n",
    "ax.annotate('min at (0.001)', xy=(50000, 0.001), xytext=(50000, 0.0008), arrowprops=None)\n",
    "ax.plot(50000, 0.001, 'o', color=\"k\")\n",
    "ax.legend()\n",
    "ax.get_ylim()[1]\n"
   ]
  },
  {
   "cell_type": "code",
   "execution_count": 98,
   "metadata": {
    "collapsed": false
   },
   "outputs": [
    {
     "data": {
      "text/plain": [
       "array([  4999,   9999,  14999,  19999,  24999,  29999,  34999,  39999,\n",
       "        44999,  49999,  54999,  59999,  64999,  69999,  74999,  79999,\n",
       "        84999,  89999,  94999,  99999, 104999, 109999, 114999, 119999,\n",
       "       124999, 129999, 134999, 139999, 144999, 149999, 154999, 159999,\n",
       "       164999, 169999, 174999, 179999, 184999, 189999, 194999, 199999,\n",
       "       204999, 209999, 214999])"
      ]
     },
     "execution_count": 98,
     "metadata": {},
     "output_type": "execute_result"
    }
   ],
   "source": [
    "records['iteration'].values"
   ]
  },
  {
   "cell_type": "code",
   "execution_count": 107,
   "metadata": {
    "collapsed": false
   },
   "outputs": [
    {
     "data": {
      "text/plain": [
       "[]"
      ]
     },
     "execution_count": 107,
     "metadata": {},
     "output_type": "execute_result"
    },
    {
     "data": {
      "image/png": "[encoded data removed]",
      "text/plain": [
       "<matplotlib.figure.Figure at 0x7f79c129efd0>"
      ]
     },
     "metadata": {},
     "output_type": "display_data"
    }
   ],
   "source": [
    "fig = plt.figure()\n",
    "ax = fig.add_subplot(111)\n",
    "ax.plot(x=records['iteration'].values, y=records['cost'].values)"
   ]
  },
  {
   "cell_type": "code",
   "execution_count": null,
   "metadata": {
    "collapsed": true
   },
   "outputs": [],
   "source": [
    "ax = fig.add_subplot"
   ]
  },
  {
   "cell_type": "code",
   "execution_count": 36,
   "metadata": {
    "collapsed": false
   },
   "outputs": [
    {
     "data": {
      "text/plain": [
       "u'db.meta'"
      ]
     },
     "execution_count": 36,
     "metadata": {},
     "output_type": "execute_result"
    }
   ],
   "source": [
    "metric.metrics.name"
   ]
  },
  {
   "cell_type": "code",
   "execution_count": 178,
   "metadata": {
    "collapsed": false
   },
   "outputs": [
    {
     "data": {
      "text/plain": [
       "[1, 2, 3, 4, 5, 6, 7, 8, 9, 10, 11, 12, 13, 14, 15]"
      ]
     },
     "execution_count": 178,
     "metadata": {},
     "output_type": "execute_result"
    }
   ],
   "source": [
    "metric.metrics.distinct('job_id')"
   ]
  },
  {
   "cell_type": "code",
   "execution_count": 173,
   "metadata": {
    "collapsed": false
   },
   "outputs": [
    {
     "ename": "StopIteration",
     "evalue": "",
     "output_type": "error",
     "traceback": [
      "\u001b[1;31m---------------------------------------------------------------------------\u001b[0m",
      "\u001b[1;31mStopIteration\u001b[0m                             Traceback (most recent call last)",
      "\u001b[1;32m<ipython-input-173-6f1d5b491b3f>\u001b[0m in \u001b[0;36m<module>\u001b[1;34m()\u001b[0m\n\u001b[1;32m----> 1\u001b[1;33m \u001b[0mcur\u001b[0m\u001b[1;33m.\u001b[0m\u001b[0mnext\u001b[0m\u001b[1;33m(\u001b[0m\u001b[1;33m)\u001b[0m\u001b[1;33m\u001b[0m\u001b[0m\n\u001b[0m",
      "\u001b[1;32m/usr/local/lib/python2.7/dist-packages/pymongo/cursor.pyc\u001b[0m in \u001b[0;36mnext\u001b[1;34m(self)\u001b[0m\n\u001b[0;32m    988\u001b[0m                 \u001b[1;32mreturn\u001b[0m \u001b[0mself\u001b[0m\u001b[1;33m.\u001b[0m\u001b[0m__data\u001b[0m\u001b[1;33m.\u001b[0m\u001b[0mpopleft\u001b[0m\u001b[1;33m(\u001b[0m\u001b[1;33m)\u001b[0m\u001b[1;33m\u001b[0m\u001b[0m\n\u001b[0;32m    989\u001b[0m         \u001b[1;32melse\u001b[0m\u001b[1;33m:\u001b[0m\u001b[1;33m\u001b[0m\u001b[0m\n\u001b[1;32m--> 990\u001b[1;33m             \u001b[1;32mraise\u001b[0m \u001b[0mStopIteration\u001b[0m\u001b[1;33m\u001b[0m\u001b[0m\n\u001b[0m\u001b[0;32m    991\u001b[0m \u001b[1;33m\u001b[0m\u001b[0m\n\u001b[0;32m    992\u001b[0m     \u001b[0m__next__\u001b[0m \u001b[1;33m=\u001b[0m \u001b[0mnext\u001b[0m\u001b[1;33m\u001b[0m\u001b[0m\n",
      "\u001b[1;31mStopIteration\u001b[0m: "
     ]
    }
   ],
   "source": [
    "cur.next()"
   ]
  },
  {
   "cell_type": "code",
   "execution_count": 91,
   "metadata": {
    "collapsed": false
   },
   "outputs": [
    {
     "data": {
      "text/plain": [
       "{u'_id': ObjectId('569e75eff2684a2a9369a51b'),\n",
       " u'constants': {u'X_dirpath': u'../../../data/train/*',\n",
       "  u'batchsize': 5000000,\n",
       "  u'epochs': 100,\n",
       "  u'improvement_threshold': 0.995,\n",
       "  u'limit': 30,\n",
       "  u'lmbda': 0.0,\n",
       "  u'mini_batch_size': 500,\n",
       "  u'patience': 20000,\n",
       "  u'patience_increase': 2,\n",
       "  u'validation_frequency': 5000,\n",
       "  u'y_dirpath': u'../../../data/train_cleaned/'},\n",
       " u'experiment_name': u'metric-test'}"
      ]
     },
     "execution_count": 91,
     "metadata": {},
     "output_type": "execute_result"
    }
   ],
   "source": [
    "cur2.next()"
   ]
  },
  {
   "cell_type": "code",
   "execution_count": null,
   "metadata": {
    "collapsed": true
   },
   "outputs": [],
   "source": []
  },
  {
   "cell_type": "code",
   "execution_count": null,
   "metadata": {
    "collapsed": true
   },
   "outputs": [],
   "source": []
  }
 ],
 "metadata": {
  "kernelspec": {
   "display_name": "Python 2",
   "language": "python",
   "name": "python2"
  },
  "language_info": {
   "codemirror_mode": {
    "name": "ipython",
    "version": 2
   },
   "file_extension": ".py",
   "mimetype": "text/x-python",
   "name": "python",
   "nbconvert_exporter": "python",
   "pygments_lexer": "ipython2",
   "version": "2.7.6"
  }
 },
 "nbformat": 4,
 "nbformat_minor": 0
}
