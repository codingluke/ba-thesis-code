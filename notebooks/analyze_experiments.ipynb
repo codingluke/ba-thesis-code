{
 "cells": [
  {
   "cell_type": "code",
   "execution_count": 50,
   "metadata": {
    "collapsed": false
   },
   "outputs": [],
   "source": [
    "import os, json, sys\n",
    "from itertools import izip\n",
    "import numpy as np\n",
    "import importlib\n",
    "from spearmint.utils.database.mongodb import MongoDB\n",
    "from spearmint.main import parse_resources_from_config, load_jobs, \\\n",
    "    remove_broken_jobs, load_task_group, load_hypers\n",
    "from collections import OrderedDict\n",
    "import matplotlib.pyplot as plt\n",
    "import mpl_toolkits.mplot3d.axes3d as axes3d\n",
    "import pymongo\n",
    "%matplotlib inline"
   ]
  },
  {
   "cell_type": "code",
   "execution_count": 51,
   "metadata": {
    "collapsed": true
   },
   "outputs": [],
   "source": [
    "def get_options(dir_path):\n",
    "    # Read in the config file\n",
    "    expt_dir  = os.path.realpath(os.path.expanduser(dir_path))\n",
    "    if not os.path.isdir(expt_dir):\n",
    "        raise Exception(\"Cannot find directory %s\" % expt_dir)\n",
    "    expt_file = os.path.join(expt_dir, 'config.json')\n",
    "\n",
    "    try:\n",
    "        with open(expt_file, 'r') as f:\n",
    "            options = json.load(f, object_pairs_hook=OrderedDict)\n",
    "    except:\n",
    "        raise Exception(\"config.json did not load properly. Perhaps a spurious comma?\")\n",
    "    options[\"config\"]  = 'config.json'\n",
    "\n",
    "    # Set sensible defaults for options\n",
    "    options['chooser']  = options.get('chooser', 'default_chooser')\n",
    "    if 'tasks' not in options:\n",
    "        options['tasks'] = {'main' : {'type' : 'OBJECTIVE', 'likelihood' : options.get('likelihood', 'GAUSSIAN')}}\n",
    "\n",
    "    if not os.path.exists(expt_dir):\n",
    "        sys.stderr.write(\"Cannot find experiment directory '%s'. \"\n",
    "                         \"Aborting.\\n\" % (expt_dir))\n",
    "        sys.exit(-1)\n",
    "\n",
    "    return options, expt_dir"
   ]
  },
  {
   "cell_type": "code",
   "execution_count": 52,
   "metadata": {
    "collapsed": true
   },
   "outputs": [],
   "source": [
    "def print_dict(d, level=1):\n",
    "    if isinstance(d, dict):\n",
    "        if level > 1: print \"\"\n",
    "        for k, v in d.iteritems():\n",
    "            print \"  \" * level, k,\n",
    "            print_dict(v, level=level+1)\n",
    "    else:\n",
    "        print d "
   ]
  },
  {
   "cell_type": "code",
   "execution_count": 60,
   "metadata": {
    "collapsed": false
   },
   "outputs": [],
   "source": [
    "options, ext_dir = get_options('../spearmint/metric-test/')"
   ]
  },
  {
   "cell_type": "code",
   "execution_count": 62,
   "metadata": {
    "collapsed": false
   },
   "outputs": [],
   "source": [
    "dba = options['database']['address']\n",
    "dbn = options['database']['name']\n",
    "experiment_name = options.get(\"experiment-name\", 'unnamed-experiment')"
   ]
  },
  {
   "cell_type": "code",
   "execution_count": 63,
   "metadata": {
    "collapsed": false
   },
   "outputs": [
    {
     "name": "stdout",
     "output_type": "stream",
     "text": [
      "metric-test\n"
     ]
    }
   ],
   "source": [
    "print experiment_name"
   ]
  },
  {
   "cell_type": "code",
   "execution_count": 65,
   "metadata": {
    "collapsed": false
   },
   "outputs": [],
   "source": [
    "db = MongoDB(database_address=dba, database_name=dbn)"
   ]
  },
  {
   "cell_type": "code",
   "execution_count": 48,
   "metadata": {
    "collapsed": false
   },
   "outputs": [],
   "source": [
    "jobs = load_jobs(db, experiment_name)\n",
    "resources = parse_resources_from_config(options)\n",
    "resource = resources.itervalues().next()"
   ]
  },
  {
   "cell_type": "code",
   "execution_count": 69,
   "metadata": {
    "collapsed": false
   },
   "outputs": [],
   "source": [
    "db.db[experiment_name]['jobs'].drop()\n",
    "db.db[experiment_name]['hypers'].drop()"
   ]
  },
  {
   "cell_type": "code",
   "execution_count": 49,
   "metadata": {
    "collapsed": false
   },
   "outputs": [
    {
     "data": {
      "text/plain": [
       "[{u'_id': ObjectId('569e0315ba36a6b4286c5ccf'),\n",
       "  u'end time': None,\n",
       "  u'expt_dir': u'/home/05/45881/ba-thesis-code/spearmint/slp-2',\n",
       "  u'id': 1,\n",
       "  u'language': u'PYTHON',\n",
       "  u'main-file': u'train.py',\n",
       "  u'params': {u'border': {u'type': u'int', u'values': array([ 2.])},\n",
       "   u'eta': {u'type': u'float', u'values': array([ 0.01])},\n",
       "   u'lmbda': {u'type': u'float', u'values': array([ 0.])},\n",
       "   u'n_hidden_layer': {u'type': u'int', u'values': array([ 80.])}},\n",
       "  u'proc_id': 39535,\n",
       "  u'resource': u'Main',\n",
       "  u'start time': 1453196047.97512,\n",
       "  u'status': u'pending',\n",
       "  u'submit time': 1453196047.828655,\n",
       "  u'tasks': [u'main']}]"
      ]
     },
     "execution_count": 49,
     "metadata": {},
     "output_type": "execute_result"
    }
   ],
   "source": [
    "jobs"
   ]
  },
  {
   "cell_type": "code",
   "execution_count": 16,
   "metadata": {
    "collapsed": false
   },
   "outputs": [
    {
     "name": "stdout",
     "output_type": "stream",
     "text": [
      "Not running from main.\n",
      "Not running from main.\n",
      "chooser <spearmint.choosers.default_chooser.DefaultChooser object at 0x7f895d74e950>\n"
     ]
    }
   ],
   "source": [
    "# Load up the chooser.\n",
    "chooser_module = importlib.import_module('spearmint.choosers.' + options['chooser'])\n",
    "chooser = chooser_module.init(options)\n",
    "print \"chooser\", chooser"
   ]
  },
  {
   "cell_type": "code",
   "execution_count": 17,
   "metadata": {
    "collapsed": false
   },
   "outputs": [
    {
     "name": "stdout",
     "output_type": "stream",
     "text": [
      "task_options:\n",
      "   main \n",
      "     likelihood NOISELESS\n",
      "     type OBJECTIVE\n"
     ]
    }
   ],
   "source": [
    "task_options = { task: options[\"tasks\"][task] for task in resource.tasks }\n",
    "print \"task_options:\"\n",
    "print_dict(task_options) # {'main': {'likelihood': u'NOISELESS', 'type': 'OBJECTIVE'}}"
   ]
  },
  {
   "cell_type": "code",
   "execution_count": 18,
   "metadata": {
    "collapsed": false
   },
   "outputs": [
    {
     "name": "stdout",
     "output_type": "stream",
     "text": [
      "task_group <spearmint.tasks.task_group.TaskGroup object at 0x7f897c6d4cd0>\n",
      "tasks:\n",
      "   main <spearmint.tasks.task.Task object at 0x7f8942a24a50>\n"
     ]
    }
   ],
   "source": [
    "task_group = load_task_group(db, options, resource.tasks)\n",
    "print \"task_group\", task_group # TaskGroup\n",
    "print \"tasks:\"\n",
    "print_dict(task_group.tasks)"
   ]
  },
  {
   "cell_type": "code",
   "execution_count": 19,
   "metadata": {
    "collapsed": false
   },
   "outputs": [
    {
     "name": "stdout",
     "output_type": "stream",
     "text": [
      "loaded hypers {u'main': {u'chain length': 640, u'hypers': {u'amp2': 1.2087587889662834, u'beta_alpha': array([ 5.47461632,  5.68689867,  8.74059071,  0.62469197]), u'ls': array([ 0.38124616,  7.16327919,  0.08611816,  0.98754834]), u'beta_beta': array([ 0.37543721,  1.78785332,  4.58498507,  0.25713112]), u'mean': -0.041126920842657566}}, u'_id': ObjectId('569d3b9aba36a6b4286c5c76')}\n"
     ]
    }
   ],
   "source": [
    "hypers = load_hypers(db, experiment_name)\n",
    "print \"loaded hypers\", hypers"
   ]
  },
  {
   "cell_type": "code",
   "execution_count": 20,
   "metadata": {
    "collapsed": false
   },
   "outputs": [
    {
     "name": "stdout",
     "output_type": "stream",
     "text": [
      "\n",
      "fitted hypers:\n",
      "   main \n",
      "     chain length 650\n",
      "     hypers \n",
      "       amp2 1.39034986796\n",
      "       beta_alpha [ 4.92586659  5.54658304  9.26404615  0.70346703]\n",
      "       ls [ 1.13594596  9.93712637  0.06537027  1.12484633]\n",
      "       beta_beta [ 0.75643388  1.44589611  4.51461746  1.05320495]\n",
      "       mean 0.997472409131\n"
     ]
    },
    {
     "name": "stderr",
     "output_type": "stream",
     "text": [
      "Fitting GP for main task...\n"
     ]
    }
   ],
   "source": [
    "hypers = chooser.fit(task_group, hypers, task_options)\n",
    "print \"\\nfitted hypers:\"\n",
    "print_dict(hypers)"
   ]
  },
  {
   "cell_type": "code",
   "execution_count": 21,
   "metadata": {
    "collapsed": false
   },
   "outputs": [
    {
     "name": "stdout",
     "output_type": "stream",
     "text": [
      "best -0.760751701944 [ 0.13989258  0.2722168   0.54223633  0.03930664]\n",
      "expected best position {u'n_hidden_layer': {'values': array([ 112.]), 'type': u'int'}, u'eta': {'values': array([ 0.05880127]), 'type': u'float'}, u'border': {'values': array([ 2.]), 'type': u'int'}, u'lmbda': {'values': array([ 0.00786133]), 'type': u'float'}}\n"
     ]
    },
    {
     "name": "stderr",
     "output_type": "stream",
     "text": [
      "\n",
      "Minimum expected objective value under model is -0.00272 (+/- 0.00435), at location:\n",
      "                NAME          TYPE       VALUE\n",
      "                ----          ----       -----\n",
      "                n_hidden_lay  int        112         \n",
      "                eta           float      0.058801    \n",
      "                border        int        2           \n",
      "                lmbda         float      0.007861    \n",
      "\n",
      "Minimum of observed values is 0.000187, at location:\n",
      "                NAME          TYPE       VALUE\n",
      "                ----          ----       -----\n",
      "                n_hidden_lay  int        200         \n",
      "                eta           float      0.046496    \n",
      "                border        int        2           \n",
      "                lmbda         float      0.000000    \n"
     ]
    }
   ],
   "source": [
    "lp, x = chooser.best()\n",
    "x = x.flatten()\n",
    "print \"best\", lp, x\n",
    "bestp = task_group.paramify(task_group.from_unit(x))\n",
    "print \"expected best position\", bestp"
   ]
  },
  {
   "cell_type": "code",
   "execution_count": 79,
   "metadata": {
    "collapsed": false
   },
   "outputs": [
    {
     "name": "stdout",
     "output_type": "stream",
     "text": [
      "chooser models: {'main': <spearmint.models.gp.GP object at 0x7fc1a480ee90>}\n",
      "   main <spearmint.models.gp.GP object at 0x7fc1a480ee90>\n"
     ]
    }
   ],
   "source": [
    "# get the grid of points\n",
    "grid = chooser.grid\n",
    "#     print \"chooser objectives:\", \n",
    "#     print_dict(chooser.objective)\n",
    "print \"chooser models:\", chooser.models\n",
    "print_dict(chooser.models)\n",
    "obj_model = chooser.models[chooser.objective['name']]\n",
    "obj_mean, obj_var = obj_model.function_over_hypers(obj_model.predict, grid)"
   ]
  },
  {
   "cell_type": "code",
   "execution_count": 80,
   "metadata": {
    "collapsed": false
   },
   "outputs": [
    {
     "data": {
      "text/plain": [
       "array([[ 0.        ,  0.        ],\n",
       "       [ 0.5       ,  0.5       ],\n",
       "       [ 0.75      ,  0.25      ],\n",
       "       ..., \n",
       "       [ 0.5430848 ,  0.1512512 ],\n",
       "       [ 0.54309733,  0.15102969],\n",
       "       [ 0.54288707,  0.15140965]])"
      ]
     },
     "execution_count": 80,
     "metadata": {},
     "output_type": "execute_result"
    }
   ],
   "source": [
    "grid"
   ]
  },
  {
   "cell_type": "code",
   "execution_count": 62,
   "metadata": {
    "collapsed": false
   },
   "outputs": [],
   "source": [
    "# un-normalize the function values and variances\n",
    "obj_task = task_group.tasks['main']\n",
    "obj_mean = [obj_task.unstandardize_mean(obj_task.unstandardize_variance(v)) for v in obj_mean]\n",
    "obj_std = [obj_task.unstandardize_variance(np.sqrt(v)) for v in obj_var]"
   ]
  },
  {
   "cell_type": "code",
   "execution_count": 82,
   "metadata": {
    "collapsed": false
   },
   "outputs": [],
   "source": [
    "grid = map(task_group.from_unit, grid)"
   ]
  },
  {
   "cell_type": "code",
   "execution_count": null,
   "metadata": {
    "collapsed": false
   },
   "outputs": [],
   "source": []
  },
  {
   "cell_type": "code",
   "execution_count": 70,
   "metadata": {
    "collapsed": false
   },
   "outputs": [],
   "source": [
    "xymv = [(xy[0], xy[1], m, v) for xy, m, v in izip(grid, obj_mean, obj_std)]# if .2 < xy[0] < .25] "
   ]
  },
  {
   "cell_type": "code",
   "execution_count": 73,
   "metadata": {
    "collapsed": false
   },
   "outputs": [],
   "source": [
    "x = map(lambda x:x[0], xymv)\n",
    "y = map(lambda x:x[1], xymv)\n",
    "m = map(lambda x:x[2], xymv)\n",
    "sig = map(lambda x:x[3], xymv)"
   ]
  },
  {
   "cell_type": "code",
   "execution_count": 76,
   "metadata": {
    "collapsed": false
   },
   "outputs": [
    {
     "data": {
      "image/png": "[encoded data removed]",
      "text/plain": [
       "<matplotlib.figure.Figure at 0x7fc15b21d290>"
      ]
     },
     "metadata": {},
     "output_type": "display_data"
    }
   ],
   "source": [
    "fig = plt.figure(dpi=100)\n",
    "ax = fig.add_subplot(111, projection='3d')\n",
    "\n",
    "ax.plot(x, y, m, marker='.', linestyle=\"None\")\n",
    "\n",
    "# plot errorbars\n",
    "for i in np.arange(0, len(x)):\n",
    "    ax.plot([x[i], x[i]], [y[i], y[i]], [m[i]+sig[i], m[i]-sig[i]], marker=\"_\", color='k')\n",
    "\n",
    "# get the observed points\n",
    "task = task_group.tasks['main']\n",
    "idata = task.valid_normalized_data_dict\n",
    "xy = idata[\"inputs\"]\n",
    "xy = map(task_group.from_unit, xy)\n",
    "xy = np.array(xy)\n",
    "vals = idata[\"values\"]\n",
    "vals = [obj_task.unstandardize_mean(obj_task.unstandardize_variance(v)) for v in vals]\n",
    "\n",
    "ax.plot(xy[:,0], xy[:,1], vals, marker='o', color=\"r\", linestyle=\"None\")\n",
    "    \n",
    "plt.show()"
   ]
  }
 ],
 "metadata": {
  "kernelspec": {
   "display_name": "Python 2",
   "language": "python",
   "name": "python2"
  },
  "language_info": {
   "codemirror_mode": {
    "name": "ipython",
    "version": 2
   },
   "file_extension": ".py",
   "mimetype": "text/x-python",
   "name": "python",
   "nbconvert_exporter": "python",
   "pygments_lexer": "ipython2",
   "version": "2.7.6"
  }
 },
 "nbformat": 4,
 "nbformat_minor": 0
}
